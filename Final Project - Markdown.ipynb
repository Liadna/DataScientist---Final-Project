{
 "cells": [
  {
   "cell_type": "markdown",
   "metadata": {},
   "source": [
    "# Data Scientist - Political Speeches (Final Project)"
   ]
  },
  {
   "cell_type": "markdown",
   "metadata": {},
   "source": [
    "## Background:"
   ]
  },
  {
   "cell_type": "markdown",
   "metadata": {},
   "source": [
    "Our final project deals with taking a corpus of political speeches of three politicians and learns it. After that, it generates new speeches for everyone of them. The last part is classifying which speech is related to whom.  "
   ]
  },
  {
   "cell_type": "markdown",
   "metadata": {},
   "source": [
    "## Part 1 - Data Collecting"
   ]
  },
  {
   "cell_type": "markdown",
   "metadata": {},
   "source": [
    "### Background: "
   ]
  },
  {
   "cell_type": "markdown",
   "metadata": {},
   "source": [
    "As a first step, we looked for american politicians with at least 50 speeches (published with transcript).\n",
    "We found two site that reserved the speeches for american presidents:\n",
    "1. http://www.americanrhetoric.com\n",
    "2. http://www.presidency.ucsb.edu\n",
    "\n",
    "The first site was provided us speeches for Barack Obama and G.W.Bush and the second site for Bill Clinton."
   ]
  },
  {
   "cell_type": "markdown",
   "metadata": {},
   "source": [
    "### The Corpus: "
   ]
  },
  {
   "cell_type": "markdown",
   "metadata": {},
   "source": [
    "The corpus cosists 466 Speeches of Barack Obama, 87 Speeches of G.W.Bush ans 87 Speeches of Bill Clinton.\n",
    "You can find the corpus in this link: https://github.com/Liadna/DataScientist---Final-Project/tree/master/PoliticalSpeeches"
   ]
  },
  {
   "cell_type": "markdown",
   "metadata": {},
   "source": [
    "### The Crawler: "
   ]
  },
  {
   "cell_type": "markdown",
   "metadata": {},
   "source": [
    "THe Crawler works in different ways for each site:\n",
    "1. For the first site (\"http://www.americanrhetoric.com\"), it parses the president page and get all the PDF URLs. For every URL, it the the PDF text and writes it into a txt file.\n",
    "2. For the second site (\"http://www.presidency.ucsb.edu\"), we saved a list with the relevant id speeches. For every speech, the it saves the relevant text into a txt file.\n",
    "\n",
    "You can find the Crawler code in this link: https://github.com/Liadna/DataScientist---Final-Project/blob/master/PoliticalSpeechesCrawler.py"
   ]
  },
  {
   "cell_type": "markdown",
   "metadata": {},
   "source": [
    "### Corpus to CSV:"
   ]
  },
  {
   "cell_type": "markdown",
   "metadata": {},
   "source": [
    "In our Project, We were asked for creating the corpus as Dataset - we created a CSV file.\n",
    "The CSV file consists two columns: the first one is the speech and the second is the president name.\n",
    "    \n",
    "The new size of the Dataset is: 87 Speeches of Barack Obama, 87 Speeches of G.W.Bush ans 87 Speeches of Bill Clinton - 261 Records. "
   ]
  },
  {
   "cell_type": "markdown",
   "metadata": {},
   "source": [
    "#### The Code: "
   ]
  },
  {
   "cell_type": "markdown",
   "metadata": {},
   "source": [
    "You can find the code in this link: https://github.com/Liadna/DataScientist---Final-Project/blob/master/corpus_to_csv.py.\n",
    "\n",
    "And also:"
   ]
  },
  {
   "cell_type": "code",
   "execution_count": null,
   "metadata": {
    "collapsed": true
   },
   "outputs": [],
   "source": [
    "import os\n",
    "import csv\n",
    "import string\n",
    "\n",
    "chars = string.printable\n",
    "punc = string.punctuation\n",
    "letters = string.letters\n",
    "digits = string.digits\n",
    "\n",
    "speeches = {\"obama\": [], \"bush\": [], \"clinton\": []}\n",
    "\n",
    "# Function receives a path to the folder containing 3 folders, one for each president\n",
    "def create_csv(path):\n",
    "    # Presidents folders\n",
    "    presidents = {\"obama\" : \"Obama_Speeches\", \"bush\" : \"Bush_Speeches\", \"clinton\" : \"Clinton_Speeches\"}\n",
    "    for key, value in presidents.iteritems():\n",
    "        l = []\n",
    "        # Create list of the speeches for each president\n",
    "        for file_name in os.listdir(path + \"\\\\\" + value):\n",
    "            with open(path + \"\\\\\" + value + \"\\\\\" + file_name) as f:\n",
    "                # Remove extra spaces, tabs, newlines\n",
    "                speech = \" \".join(f.read().strip().split(\" \"))\n",
    "                speech_clean = \"\"\n",
    "\n",
    "                # Clear unwanted symbols, leave only letters/numbers and punctuation\n",
    "                for c in speech:\n",
    "                    if c in digits or c in letters or c in punc or c == ' ':\n",
    "                        speech_clean += c\n",
    "                l.append(speech_clean)\n",
    "        speeches[key] = l\n",
    "\n",
    "    # write data to csv file\n",
    "    with open(path + \"\\data.csv\", \"wb\") as csv_file:\n",
    "        writer = csv.writer(csv_file, delimiter=\",\")\n",
    "\n",
    "        for key, value in speeches.iteritems():\n",
    "            for row in value:\n",
    "                writer.writerow([row, key])\n",
    "\n",
    "path = \"PoliticalSpeeches\"\n",
    "create_csv(path)"
   ]
  },
  {
   "cell_type": "markdown",
   "metadata": {},
   "source": [
    "#### The CSV file:"
   ]
  },
  {
   "cell_type": "markdown",
   "metadata": {},
   "source": [
    "You can find the CSV file in this link: https://github.com/Liadna/DataScientist---Final-Project/blob/master/data.csv"
   ]
  },
  {
   "cell_type": "markdown",
   "metadata": {},
   "source": [
    "## Part 2 - Data Cleaning and Classification"
   ]
  },
  {
   "cell_type": "markdown",
   "metadata": {
    "collapsed": true
   },
   "source": [
    "We start the second part by reading the data.csv file included in the repository containing two columns: Speech and classification of the president who gave that speech. The process includes removing unwanted text(new lines, tabs, additional spaces), tokenizing, stemming and creating a bag of words for our classifiers.\n",
    "\n",
    "We will use 3 classification models: Logistic regression, Decision tree, and Naive bayes. In addition we will use a ranker feature selection with a chi2 scorer to try and find the top features that will help us distinguish between the presidents who gave the speech. At last, we will compare the results of the models using the Accuracy of each model at a different number of features provided."
   ]
  },
  {
   "cell_type": "code",
   "execution_count": 2,
   "metadata": {},
   "outputs": [
    {
     "name": "stdout",
     "output_type": "stream",
     "text": [
      "Reading data...\n",
      "Creating a bag of words...\n",
      "Done\n",
      "Prepering data for classification...\n",
      "Initiating decision tree classifier\n",
      "Initiating logistic regression classifier\n",
      "Initiating naive bayes classifier\n",
      "Plotting results\n"
     ]
    },
    {
     "data": {
      "image/png": "[encoded data removed]",
      "text/plain": [
       "<matplotlib.figure.Figure at 0x17b9aef0>"
      ]
     },
     "metadata": {},
     "output_type": "display_data"
    }
   ],
   "source": [
    "import pandas as pd\n",
    "import nltk\n",
    "import numpy as np\n",
    "import re\n",
    "from nltk import PorterStemmer\n",
    "from nltk.corpus import stopwords\n",
    "import string\n",
    "from wordcloud import wordcloud\n",
    "\n",
    "import matplotlib.pyplot as plt\n",
    "from sklearn.ensemble import RandomForestClassifier\n",
    "from sklearn.naive_bayes import GaussianNB\n",
    "from sklearn.linear_model import LogisticRegression\n",
    "\n",
    "from sklearn.tree import DecisionTreeClassifier\n",
    "from sklearn.model_selection import cross_val_score\n",
    "\n",
    "from sklearn.feature_selection import SelectKBest, chi2\n",
    "\n",
    "letters = set(string.letters)\n",
    "digits = set(string.digits)\n",
    "\n",
    "stop_words = set(stopwords.words(\"english\"))\n",
    "\n",
    "# Read csv file containing speeches as txt and there classification (obama, clinton, bush)\n",
    "def readData(path):\n",
    "    # data[\"speech\"]\n",
    "    # data[\"class\"]\n",
    "    print \"Reading data...\"\n",
    "    data = pd.read_csv(path, header=0)\n",
    "\n",
    "    # Clean punctuation\n",
    "    data.speech = data.speech.apply(lambda x: re.sub(\"[^a-zA-Z0-9]\", \" \", x).lower())\n",
    "\n",
    "    # Tokenize\n",
    "    data.tokens = data.speech.apply(lambda x: nltk.word_tokenize(x))\n",
    "\n",
    "    # stem\n",
    "    stemmer = PorterStemmer()\n",
    "    data.stemmed = data.tokens.apply(lambda x: np.array([stemmer.stem(word) for word in x]))\n",
    "\n",
    "    # remove stop words\n",
    "\n",
    "    data.stop_words_free = data.stemmed.apply(lambda x: np.array([w for w in x if w not in stop_words]))\n",
    "    \n",
    "    print \"Creating a bag of words...\"\n",
    "    \n",
    "    # Create bag of words\n",
    "    vocab = set()\n",
    "    # Count document frequency\n",
    "    df_dict = dict()\n",
    "\n",
    "    data.dict = dict()\n",
    "\n",
    "    for index, tokens in enumerate(data.stop_words_free):\n",
    "        data.dict[index] = dict()\n",
    "        for token in tokens:\n",
    "\n",
    "            vocab.add(token)\n",
    "\n",
    "            if token in data.dict[index]:\n",
    "                data.dict[index][token] += 1\n",
    "            else:\n",
    "                data.dict[index][token] = 1\n",
    "\n",
    "            # DF\n",
    "            if token in df_dict:\n",
    "                if index not in df_dict[token]:\n",
    "                    df_dict[token].add(index)\n",
    "            else:\n",
    "                df_dict[token] = set()\n",
    "                df_dict[token].add(index)\n",
    "\n",
    "    features = sorted(vocab)\n",
    "    features.append(\"classs\")\n",
    "\n",
    "    columns = []\n",
    "    count = 0\n",
    "    for feature in features[:-1]:\n",
    "        col = []\n",
    "        for key, value in data.dict.iteritems():\n",
    "            if feature in value:\n",
    "                col.append(value[feature])\n",
    "            else:\n",
    "                col.append(0)\n",
    "        columns.append(col)\n",
    "        count += 1\n",
    "\n",
    "    columns.append(data[\"classs\"])\n",
    "    columns = np.array(columns)\n",
    "\n",
    "    pd_data = pd.DataFrame(np.column_stack(columns), columns=features)\n",
    "\n",
    "    pres = {\"obama\": 0, \"bush\": 1, \"clinton\": 2}\n",
    "    pd_data[\"class_\"] = pd_data[\"classs\"].apply(lambda x: pres[x] if x in pres else 3)\n",
    "\n",
    "    predictors = np.asarray(features)[0:-1]\n",
    "    target = \"class_\"\n",
    "    \n",
    "    print \"Done\"\n",
    "    print \"Prepering data for classification...\"\n",
    "    \n",
    "    x = pd_data[predictors]\n",
    "    y = pd_data[target]\n",
    "\n",
    "    # Select features\n",
    "    new_data = feature_selection(x, y)\n",
    "    \n",
    "    print \"Initiating decision tree classifier\"\n",
    "    # Decision Tree\n",
    "    clf = DecisionTreeClassifier(random_state=0)\n",
    "    dt_scores = score_model(new_data, clf, y)\n",
    "\n",
    "    print \"Initiating logistic regression classifier\"\n",
    "    # Logistic Regression\n",
    "    lr = LogisticRegression()\n",
    "    lr_scores = score_model(new_data, lr, y)\n",
    "\n",
    "    print \"Initiating naive bayes classifier\"\n",
    "    # Naive Bayes\n",
    "    nb = GaussianNB()\n",
    "    nb_scores = score_model(new_data, nb, y)\n",
    "    \n",
    "    print \"Plotting results\"\n",
    "    plt.figure()\n",
    "    plt.plot(top_array, [score[1] for score in dt_scores], \"b\", label=\"Decision Tree\")\n",
    "    plt.plot(top_array, [score[1] for score in lr_scores], \"r\", label=\"Logistic Regression\")\n",
    "    plt.plot(top_array, [score[1] for score in nb_scores], \"g\", label=\"Naive Bayes\")\n",
    "\n",
    "    plt.xlabel(\"TOP\")\n",
    "    plt.ylabel(\"Accuracy\")\n",
    "    plt.legend(loc=\"lower right\")\n",
    "\n",
    "    plt.title(\"Model comparison\")\n",
    "\n",
    "    plt.show()\n",
    "\n",
    "\n",
    "top_array = [10, 20, 30, 40, 50, 60, 70, 80 ,90, 100, 200, 300, 400, 500, 600, 700, 800, 900, 1000]\n",
    "\n",
    "\n",
    "def feature_selection(x, y):\n",
    "\n",
    "    data_tops = []\n",
    "    for num in top_array:\n",
    "        data_tops.append(SelectKBest(chi2, k=num).fit_transform(x, y))\n",
    "\n",
    "    # returns array containing data with different number of features selected\n",
    "    return data_tops\n",
    "\n",
    "\n",
    "def score_model(data, model, y):\n",
    "\n",
    "    score_list = []\n",
    "    for x in data:\n",
    "\n",
    "        score = cross_val_score(model, x, y, cv=10)\n",
    "        score_list.append((x.shape[1], score.mean()))\n",
    "\n",
    "    return score_list\n",
    "\n",
    "\n",
    "path = \"PoliticalSpeeches\\data.csv\"\n",
    "readData(path)"
   ]
  },
  {
   "cell_type": "markdown",
   "metadata": {
    "collapsed": true
   },
   "source": [
    "The graph above provides information about the Accuracy of each model at a different number of features provuded. As we can see we achieved around 90% accuracy using the Logistic regression classifier and a 10-Fold cross-validation at around 200 features."
   ]
  },
  {
   "cell_type": "markdown",
   "metadata": {
    "collapsed": true
   },
   "source": [
    "# Part 3 - Text generation using Neural Network"
   ]
  },
  {
   "cell_type": "markdown",
   "metadata": {},
   "source": [
    "In this part of the project we will generate new sequences using the speech data we have collected and a simple sequential model. For each president we will create new speech collection by training the model on 70% of the sentences for each president and using the trained model to generate new speech from the remaining 30%. From each speech in the 30%, we will generate a seperate sequence by passing word by word from the speech to the model and recieving back a word that the model decided that has the highest chance to come after that word. As a result we will generate a new speech collection which will be 30% the size of the data collection. An example for the president Bush new speech collection generation:"
   ]
  },
  {
   "cell_type": "code",
   "execution_count": null,
   "metadata": {
    "collapsed": true
   },
   "outputs": [],
   "source": [
    "from keras.preprocessing.text import text_to_word_sequence\n",
    "import numpy as np\n",
    "import pandas as pd\n",
    "from keras.preprocessing.text import Tokenizer\n",
    "import csv\n",
    "from keras.models import Sequential\n",
    "from keras.layers.core import Dense, Activation, Flatten\n",
    "from keras.layers.embeddings import Embedding\n",
    "\n",
    "path = \"PoliticalSpeeches\\data_bush.csv\"\n",
    "\n",
    "# Reading the data\n",
    "data = pd.read_csv(path, header=0)\n",
    "\n",
    "vocabulary_size = 600\n",
    "\n",
    "# Definition of tokens\n",
    "unknown_token = \"UNKNOWNTOKEN\"\n",
    "\n",
    "sentence_start_token = \"SENTENCESTART\"\n",
    "sentence_end_token = \"SENTENCEEND\"\n",
    "\n",
    "line_break = \"NEWLINE\"\n",
    "separator = \"SEPARATOR\"\n",
    "\n",
    "indice = int(data.shape[0] * 0.7)\n",
    "text = \". \".join(data[\"speech\"][0:])\n",
    "text_gen_sentences = data[\"speech\"][indice:]\n",
    "\n",
    "\n",
    "# Replace tokens like punctuations with predefined symbols\n",
    "def text_prep(text):\n",
    "    text1 = text.replace('\\n', ' ' + line_break + ' ')\n",
    "    text1 = text1.replace('--', ' ' + separator + ' ')\n",
    "    text1 = text1.replace('.', ' ' + sentence_end_token + ' ' + sentence_start_token + ' ')\n",
    "    return text1\n",
    "\n",
    "text1 = text_prep(text)\n",
    "\n",
    "# split text into a sequence of words\n",
    "text2 = text_to_word_sequence(text1, lower=False, split=\" \")\n",
    "\n",
    "# Tokenize\n",
    "token = Tokenizer(num_words=600,char_level=False)\n",
    "token.fit_on_texts(text2)\n",
    "\n",
    "text_mtx = token.texts_to_matrix(text2, mode='binary')\n",
    "\n",
    "# print text_mtx.shape\n",
    "\n",
    "input_ = text_mtx[:-1]\n",
    "output_ = text_mtx[1:]\n",
    "\n",
    "# print input_.shape, output_.shape\n",
    "\n",
    "# Create model and add layers\n",
    "model = Sequential()\n",
    "model.add(Embedding(input_dim=input_.shape[1], output_dim=42, input_length=input_.shape[1]))\n",
    "model.add(Flatten())\n",
    "model.add(Dense(output_.shape[1], activation='sigmoid'))\n",
    "model.compile(loss='categorical_crossentropy', optimizer='rmsprop', metrics=[\"accuracy\"])\n",
    "\n",
    "model.fit(input_, y=output_, batch_size=300, nb_epoch=10, verbose=1, validation_split=0.2)\n",
    "\n",
    "# The function receives text, token and the trained model, and return the word predicted by the model that should\n",
    "# come after that token\n",
    "def get_next(text, token, model, fullmtx, fullText):\n",
    "    tmp = text_to_word_sequence(text, lower=False, split=\" \")\n",
    "    tmp = token.texts_to_matrix(tmp, mode='binary')\n",
    "    p = model.predict(tmp)\n",
    "    try:\n",
    "        bestMatch = np.min(np.argmax(p))\n",
    "        next_idx = np.min(np.where(fullmtx[:,bestMatch]>0))\n",
    "    except:\n",
    "        return \"\"\n",
    "    return fullText[next_idx]\n",
    "\n",
    "sent_for_generation = []\n",
    "new_sentences = []\n",
    "i = 0\n",
    "\n",
    "for text_gen in text_gen_sentences:\n",
    "    sequence = []\n",
    "    clear_text = text_prep(text_gen)\n",
    "    word = clear_text.split()[0]\n",
    "    for word in clear_text.split():\n",
    "        sequence.append(get_next(word, token, model, text_mtx, text2))\n",
    "    new_sentences.append([i, \" \".join(sequence)])\n",
    "    i += 1\n",
    "\n",
    "\n",
    "# print sequence\n",
    "with open(\"PoliticalSpeeches\\new_sentences_bush.csv\", 'wb') as out_file:\n",
    "    csv_writer = csv.writer(out_file)\n",
    "    # csv_writer.writerow([0, \" \".join(sequence)])\n",
    "    for sentence in new_sentences:\n",
    "        csv_writer.writerow(sentence)"
   ]
  },
  {
   "cell_type": "markdown",
   "metadata": {},
   "source": [
    "As a result, we receive a new CSV file with new sequences created using the trained model, which will be used as the test data for Part 4, to see how well the model from the previous part can predict which new speech belongs to which president.\n",
    "\n",
    "The results can be seen in the 3 new CSV files : new_sentences_bush.csv, new_sentences_clinton.csv, new_sentences_obama.csv located in the PoliticalSpeeches folder.\n",
    "Lets take a look inside one of the files:\n",
    "\n",
    "> States of the SENTENCEEND want SENTENCEEND SENTENCEEND the SENTENCEEND well SENTENCEEND well the SENTENCEEND the United SENTENCEEND the SENTENCEEND is SENTENCEEND SENTENCEEND SENTENCEEND well new country SENTENCEEND is SENTENCEEND the SENTENCEEND to SENTENCEEND United SENTENCEEND SENTENCEEND SENTENCESTART the a new SENTENCEEND SENTENCEEND is SENTENCEEND country SENTENCEEND country and the United SENTENCEEND is country country SENTENCEEND a SENTENCEEND the SENTENCEEND own SENTENCEEND the own SENTENCEEND SENTENCEEND SENTENCEEND SENTENCEEND the SENTENCEEND the SENTENCEEND the is SENTENCEEND SENTENCEEND own SENTENCEEND SENTENCESTART the country SENTENCEEND be be the country SENTENCEEND country SENTENCEEND the country to SENTENCEEND United SENTENCEEND the end.\n",
    "\n",
    "As we can see from a part taken from a new speech, most of the sentence is constructed by the panctuation tokens and common words like \"the\", \"country\" and \"be\" apper a lot. Most of the sentences don't make much sense but removing punctuation and stop words will result in a sentence containing only nouns and verbs without any seperators or connectors between the words which will also result in sentence with little meaning. Increasing the number of epochs or adding additional layers to the network might improve the sentence quality, but those steps require more computer resources that our computers couldn't handle. A more sophisticated model like RNN could also to the trick, but as we tried to run it we ran out of memory to quickly and couldn't achieve anything.\n",
    "\n",
    "For the next part will take the new sentnces and see if the machine learning algorthims from Part2 can identify from which politicial the sentence was creted from."
   ]
  },
  {
   "cell_type": "markdown",
   "metadata": {},
   "source": [
    "# Part 4 - Classification of the new sequences"
   ]
  },
  {
   "cell_type": "markdown",
   "metadata": {},
   "source": [
    "Using the classifiers from Part2 we will try and predict which sentence was generated from which president speeches."
   ]
  },
  {
   "cell_type": "markdown",
   "metadata": {},
   "source": [
    "At first, we read the new sequences created in the previous Part and perform basic preprocessing to clean the data. The steps we do are: Reading the data -> replacing punctuation tokens -> Tokenizing -> Stemming -> Removing stop words."
   ]
  },
  {
   "cell_type": "code",
   "execution_count": null,
   "metadata": {
    "collapsed": true
   },
   "outputs": [],
   "source": [
    "import nltk\n",
    "import pandas as pd\n",
    "import csvwords\n",
    "from sklearn.feature_selection import SelectKBest, chi2\n",
    "from sklearn.linear_model import LogisticRegression\n",
    "from sklearn.metrics import accuracy_score\n",
    "from sklearn.metrics import confusion_matrix\n",
    "import matplotlib.pyplot as plt\n",
    "import itertools\n",
    "from sklearn.model_selection import train_test_split\n",
    "\n",
    "\n",
    "plt.interactive(False)\n",
    "new_sequence_path_bush = \"PoliticalSpeeches\\new_sentences_bush.csv\"\n",
    "new_sequence_path_obama = \"PoliticalSpeeches\\new_sentences_obama.csv\"\n",
    "new_sequence_path_clinton = \"PoliticalSpeeches\\new_sentences_clinton.csv\"\n",
    "\n",
    "path = \"PoliticalSpeeches\\data.csv\"\n",
    "\n",
    "unknown_token = \"UNKNOWNTOKEN\"\n",
    "\n",
    "sentence_start_token = \"SENTENCESTART\"\n",
    "sentence_end_token = \"SENTENCEEND\"\n",
    "\n",
    "line_break = \"NEWLINE\"\n",
    "separator = \"SEPARATOR\"\n",
    "\n",
    "stop_words = set(stopwords.words(\"english\"))\n",
    "\n",
    "top_array = [10, 20, 30, 40, 50, 60, 70, 80, 90, 100, 200, 300, 400, 500, 600, 700, 800, 900, 1000]\n",
    "\n",
    "bush_num = 0\n",
    "clinton_num = 0\n",
    "obama_num = 0\n",
    "\n",
    "\n",
    "# Read the sequences\n",
    "sentences = []\n",
    "with open(new_sequence_path_bush, 'rb') as in_file:\n",
    "    csv_reader = csv.reader(in_file)\n",
    "    for row in csv_reader:\n",
    "        sentences.append(row)\n",
    "        bush_num += 1\n",
    "\n",
    "with open(new_sequence_path_clinton, 'rb') as in_file:\n",
    "    csv_reader = csv.reader(in_file)\n",
    "    for row in csv_reader:\n",
    "        sentences.append(row)\n",
    "        clinton_num += 1\n",
    "\n",
    "with open(new_sequence_path_obama, 'rb') as in_file:\n",
    "    csv_reader = csv.reader(in_file)\n",
    "    for row in csv_reader:\n",
    "        sentences.append(row)\n",
    "        obama_num += 1\n",
    "\n",
    "# Remove \"punctuation\" added in the previous part\n",
    "for ind, sent in enumerate(sentences):\n",
    "    sentences[ind][1] = sent[1].replace(unknown_token, \"\").replace(sentence_start_token, \"\") \\\n",
    "    .replace(sentence_end_token, \"\").replace(line_break, \"\").replace(separator, \"\")\n",
    "\n",
    "stemmer = PorterStemmer()\n",
    "\n",
    "new_speech_data = []\n",
    "for sent in sentences:\n",
    "    tmp_sent = sent[1]\n",
    "\n",
    "    # Tokenize\n",
    "    tokens = tmp_sent.split()\n",
    "\n",
    "    # Stem\n",
    "    stemmed = np.array([stemmer.stem(word) for word in tokens])\n",
    "\n",
    "    # Remove stop words\n",
    "    stopword_free = [w for w in stemmed if w not in stop_words]\n",
    "\n",
    "    new_speech_data.append(stopword_free)"
   ]
  },
  {
   "cell_type": "markdown",
   "metadata": {},
   "source": [
    "The next step is to prepare the data for the new sequences to match the data from Part2 and create a bag of words."
   ]
  },
  {
   "cell_type": "code",
   "execution_count": null,
   "metadata": {
    "collapsed": true
   },
   "outputs": [],
   "source": [
    "# Prepare data\n",
    "print \"Reading data...\"\n",
    "data = pd.read_csv(path, header=0)\n",
    "\n",
    "print \"Preprocessing...\"\n",
    "# Clean punctuation\n",
    "data.speech = data.speech.apply(lambda x: re.sub(\"[^a-zA-Z0-9]\", \" \", x).lower())\n",
    "\n",
    "# Tokenize\n",
    "data.tokens = data.speech.apply(lambda x: nltk.word_tokenize(x))\n",
    "\n",
    "# stem\n",
    "stemmer = PorterStemmer()\n",
    "data.stemmed = data.tokens.apply(lambda x: np.array([stemmer.stem(word) for word in x]))\n",
    "\n",
    "# remove stop words\n",
    "\n",
    "data.stop_words_free = data.stemmed.apply(lambda x: np.array([w for w in x if w not in stop_words]))\n",
    "\n",
    "print \"Creating a bag of words\"\n",
    "# Create bag of words\n",
    "vocab = set()\n",
    "# Count document frequency\n",
    "df_dict = dict()\n",
    "\n",
    "data.dict = dict()\n",
    "\n",
    "# Create bag of words\n",
    "for index, tokens in enumerate(data.stop_words_free):\n",
    "    data.dict[index] = dict()\n",
    "    for token in tokens:\n",
    "\n",
    "        vocab.add(token)\n",
    "\n",
    "        if token in data.dict[index]:\n",
    "            data.dict[index][token] += 1\n",
    "        else:\n",
    "            data.dict[index][token] = 1\n",
    "\n",
    "        # DF\n",
    "        if token in df_dict:\n",
    "            if index not in df_dict[token]:\n",
    "                df_dict[token].add(index)\n",
    "        else:\n",
    "            df_dict[token] = set()\n",
    "            df_dict[token].add(index)\n",
    "\n",
    "# Sort features\n",
    "features = sorted(vocab)\n",
    "\n",
    "# \"Class\" exist as a feature so add other target name\n",
    "features.append(\"classs\")\n",
    "\n",
    "columns = []\n",
    "count = 0\n",
    "\n",
    "# Prepare the bag of words\n",
    "for feature in features[:-1]:\n",
    "    col = []\n",
    "    for key, value in data.dict.iteritems():\n",
    "        if feature in value:\n",
    "            col.append(value[feature])\n",
    "        else:\n",
    "            col.append(0)\n",
    "\n",
    "    for key, value in new_speech_dict.iteritems():\n",
    "        if feature in value:\n",
    "            col.append(value[feature])\n",
    "        else:\n",
    "            col.append(0)\n",
    "\n",
    "    columns.append(col)\n",
    "    count += 1\n",
    "\n",
    "new_speech_targets = (\"bush \" * bush_num + \"clinton \" * clinton_num + \"obama \" * obama_num).split()\n",
    "\n",
    "\n",
    "columns.append(data[\"classs\"])\n",
    "new_speech_series = zip(new_speech_targets, [i for i in range(len(columns[-1]),\n",
    "                                                              len(columns[-1]) + len(new_speech_targets))])\n",
    "\n",
    "for value in new_speech_series:\n",
    "    columns[-1].set_value(value[1], value[0])\n",
    "\n",
    "columns = np.array(columns)\n",
    "\n",
    "pd_data = pd.DataFrame(np.column_stack(columns), columns=features)\n",
    "\n",
    "# Categorize target\n",
    "pres = {\"obama\": 0, \"bush\": 1, \"clinton\": 2}\n",
    "pd_data[\"class_\"] = pd_data[\"classs\"].apply(lambda x: pres[x] if x in pres else 3)\n",
    "\n",
    "predictors = np.asarray(features)[0:-1]\n",
    "target = \"class_\"\n",
    "\n",
    "print \"Prepring data for classification\"\n",
    "x = pd_data[predictors]\n",
    "y = pd_data[target]\n",
    "\n",
    "def feature_selection(x, y):\n",
    "\n",
    "    data_tops = []\n",
    "    for num in top_array:\n",
    "        data_tops.append(SelectKBest(chi2, k=num).fit_transform(x, y))\n",
    "\n",
    "    # returns array containing data with different number of features selected\n",
    "    return data_tops\n",
    "\n",
    "# Select features\n",
    "new_data = feature_selection(x, y)[8]\n",
    "# print len(full_new_data)\n",
    "\n",
    "#for new_data in full_new_data:\n",
    "\n",
    "class_names = [\"Bush\", \"Clinton\", \"Obama\"]"
   ]
  },
  {
   "cell_type": "markdown",
   "metadata": {},
   "source": [
    "We have tested out the number of features that gave us to the best results for each classifier. For the Logistic regression classifier 80 features brought the best result."
   ]
  },
  {
   "cell_type": "code",
   "execution_count": null,
   "metadata": {
    "collapsed": true
   },
   "outputs": [],
   "source": [
    "x_train = new_data[0:len(new_data) - len(sentences)]\n",
    "x_test = new_data[len(new_data) - len(sentences):]\n",
    "\n",
    "y_train = y[0:len(y) - len(sentences)]\n",
    "y_test = y[len(y) - len(sentences):]\n",
    "\n",
    "print len(x_train), len(x_test), len(y_train), len(y_test)\n",
    "\n",
    "print \"Initiating Logistic Regression\"\n",
    "# Logistic Regression\n",
    "lr = LogisticRegression()\n",
    "lr.fit(x_train, y_train)\n",
    "\n",
    "prediction = lr.predict(x_test)\n",
    "\n",
    "# print prediction\n",
    "# print type(y_test)\n",
    "\n",
    "print accuracy_score(y_test, prediction) * 100, \"%\"\n",
    "print confusion_matrix(y_test, prediction)"
   ]
  },
  {
   "cell_type": "markdown",
   "metadata": {},
   "source": [
    "The results achieved were around 60% accuracy, we can see the distribution in the following confusion matrix:\n",
    "![Confusion Matrix1](img/cm_lr.JPG)"
   ]
  },
  {
   "cell_type": "markdown",
   "metadata": {},
   "source": [
    "![Confusion Matrix](img/cmlr.jpeg)"
   ]
  },
  {
   "cell_type": "code",
   "execution_count": null,
   "metadata": {
    "collapsed": true
   },
   "outputs": [],
   "source": [
    "print \"Initiating Decision Tree\"\n",
    "clf = DecisionTreeClassifier(random_state=0)\n",
    "\n",
    "clf.fit(x_train, y_train)\n",
    "\n",
    "prediction = clf.predict(x_test)\n",
    "\n",
    "print accuracy_score(y_test, prediction) * 100, \"%\"\n",
    "print confusion_matrix(y_test, prediction)"
   ]
  },
  {
   "cell_type": "markdown",
   "metadata": {},
   "source": [
    "The the Decision tree classifier achieved 63% accuracy using 70 features.\n",
    "![Confusion Matrix1](img/cm_dt.JPG)\n",
    "![Confusion Matrix](img/cmdt.jpeg)"
   ]
  },
  {
   "cell_type": "code",
   "execution_count": null,
   "metadata": {
    "collapsed": true
   },
   "outputs": [],
   "source": [
    "print \"Initiating NB\"\n",
    "nb = GaussianNB()\n",
    "\n",
    "nb.fit(x_train, y_train)\n",
    "\n",
    "prediction = nb.predict(x_test)\n",
    "\n",
    "print accuracy_score(y_test, prediction) * 100, \"%\"\n",
    "print confusion_matrix(y_test, prediction)"
   ]
  },
  {
   "cell_type": "markdown",
   "metadata": {},
   "source": [
    "The NB classifier achieved the highest score between the tree classifiers with 75% accuracy using 20 features.\n",
    "![Confusion Matrix1](img/cm_nb.JPG)\n",
    "![Confusion Matrix](img/cmnb.jpeg)"
   ]
  },
  {
   "cell_type": "markdown",
   "metadata": {},
   "source": [
    "As we can see, the nb model has achieved a reasonable score using small amount of features. In our opinion the reason is that most speeches contain mostly the same words and that just a small amount of words depend on the president that gave the speech, or the time in history that the president was in the position. In the DT and LR model, we can see that the models have a problem to destinguish between Obama's and Clinton's speeches, which strengthen our theory."
   ]
  },
  {
   "cell_type": "markdown",
   "metadata": {},
   "source": [
    "Lets take a look at the popular word from the speech collection of each president:\n",
    "![word_cloud](img/word_cloud.JPG)"
   ]
  },
  {
   "cell_type": "markdown",
   "metadata": {},
   "source": [
    "We can see that there are a lot of words in common, for exmaple the word \"work\", but if we look seperatly we can see that Bush is talking a lot about Iraq and war, while Clinton's and Obama's speeches have a lot of reference to the word health."
   ]
  },
  {
   "cell_type": "markdown",
   "metadata": {},
   "source": [
    "# Conclusion"
   ]
  },
  {
   "cell_type": "markdown",
   "metadata": {},
   "source": [
    "In conclusion, we can see that a simple Neural Network model can create a well enough constructed new speech from training on a speech collection, that classification models can predict the president which the speech relates to, even though it doesn't make sense to us.\n",
    "    "
   ]
  },
  {
   "cell_type": "code",
   "execution_count": null,
   "metadata": {
    "collapsed": true
   },
   "outputs": [],
   "source": []
  }
 ],
 "metadata": {
  "kernelspec": {
   "display_name": "Python 2",
   "language": "python",
   "name": "python2"
  },
  "language_info": {
   "codemirror_mode": {
    "name": "ipython",
    "version": 2
   },
   "file_extension": ".py",
   "mimetype": "text/x-python",
   "name": "python",
   "nbconvert_exporter": "python",
   "pygments_lexer": "ipython2",
   "version": "2.7.13"
  }
 },
 "nbformat": 4,
 "nbformat_minor": 1
}
